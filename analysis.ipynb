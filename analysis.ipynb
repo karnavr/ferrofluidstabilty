{
 "cells": [
  {
   "cell_type": "code",
   "execution_count": 13,
   "metadata": {},
   "outputs": [
    {
     "data": {
      "text/plain": [
       "32"
      ]
     },
     "metadata": {},
     "output_type": "display_data"
    }
   ],
   "source": [
    "using Plots\n",
    "using DelimitedFiles\n",
    "# using Base.Threads\n",
    "\n",
    "include(\"stabilityFunctions.jl\");\n",
    "Threads.nthreads()"
   ]
  },
  {
   "cell_type": "code",
   "execution_count": 7,
   "metadata": {},
   "outputs": [],
   "source": [
    "# import matlab solutions \n",
    "solutions = readdlm(\"test & misc/matlab_solutions.csv\", ',', Float64);"
   ]
  },
  {
   "cell_type": "code",
   "execution_count": 14,
   "metadata": {},
   "outputs": [
    {
     "ename": "CompositeException",
     "evalue": "TaskFailedException\n\n    nested task error: UndefVarError: `S0z` not defined\n    Stacktrace:\n     [1] Gg(N::Int64, z::Vector{Float64}, S0::Vector{Float64}, b::Float64, c::Float64, μ::Float64)\n       @ Main ~/Documents/ferrofluidstabilty/stabilityFunctions.jl:282\n     [2] macro expansion\n       @ ~/Documents/ferrofluidstabilty/stabilityFunctions.jl:49 [inlined]\n     [3] (::var\"#143#threadsfor_fun#25\"{var\"#143#threadsfor_fun#24#26\"{Matrix{Float64}, Matrix{ComplexF64}, Matrix{ComplexF64}, Matrix{ComplexF64}, Vector{Float64}, Vector{Float64}, Vector{Float64}, Vector{Float64}, Vector{Float64}, Vector{Float64}, Int64, Float64, Float64, Float64, UnitRange{Int64}}})(tid::Int64; onethread::Bool)\n       @ Main ./threadingconstructs.jl:215\n     [4] #143#threadsfor_fun\n       @ ./threadingconstructs.jl:182 [inlined]\n     [5] (::Base.Threads.var\"#1#2\"{var\"#143#threadsfor_fun#25\"{var\"#143#threadsfor_fun#24#26\"{Matrix{Float64}, Matrix{ComplexF64}, Matrix{ComplexF64}, Matrix{ComplexF64}, Vector{Float64}, Vector{Float64}, Vector{Float64}, Vector{Float64}, Vector{Float64}, Vector{Float64}, Int64, Float64, Float64, Float64, UnitRange{Int64}}}, Int64})()\n       @ Base.Threads ./threadingconstructs.jl:154\n\n...and 31 more exceptions.\n",
     "output_type": "error",
     "traceback": [
      "TaskFailedException\n",
      "\n",
      "    nested task error: UndefVarError: `S0z` not defined\n",
      "    Stacktrace:\n",
      "     [1] Gg(N::Int64, z::Vector{Float64}, S0::Vector{Float64}, b::Float64, c::Float64, μ::Float64)\n",
      "       @ Main ~/Documents/ferrofluidstabilty/stabilityFunctions.jl:282\n",
      "     [2] macro expansion\n",
      "       @ ~/Documents/ferrofluidstabilty/stabilityFunctions.jl:49 [inlined]\n",
      "     [3] (::var\"#143#threadsfor_fun#25\"{var\"#143#threadsfor_fun#24#26\"{Matrix{Float64}, Matrix{ComplexF64}, Matrix{ComplexF64}, Matrix{ComplexF64}, Vector{Float64}, Vector{Float64}, Vector{Float64}, Vector{Float64}, Vector{Float64}, Vector{Float64}, Int64, Float64, Float64, Float64, UnitRange{Int64}}})(tid::Int64; onethread::Bool)\n",
      "       @ Main ./threadingconstructs.jl:215\n",
      "     [4] #143#threadsfor_fun\n",
      "       @ ./threadingconstructs.jl:182 [inlined]\n",
      "     [5] (::Base.Threads.var\"#1#2\"{var\"#143#threadsfor_fun#25\"{var\"#143#threadsfor_fun#24#26\"{Matrix{Float64}, Matrix{ComplexF64}, Matrix{ComplexF64}, Matrix{ComplexF64}, Vector{Float64}, Vector{Float64}, Vector{Float64}, Vector{Float64}, Vector{Float64}, Vector{Float64}, Int64, Float64, Float64, Float64, UnitRange{Int64}}}, Int64})()\n",
      "       @ Base.Threads ./threadingconstructs.jl:154\n",
      "\n",
      "...and 31 more exceptions.\n",
      "\n",
      "\n",
      "Stacktrace:\n",
      " [1] threading_run(fun::var\"#143#threadsfor_fun#25\"{var\"#143#threadsfor_fun#24#26\"{Matrix{Float64}, Matrix{ComplexF64}, Matrix{ComplexF64}, Matrix{ComplexF64}, Vector{Float64}, Vector{Float64}, Vector{Float64}, Vector{Float64}, Vector{Float64}, Vector{Float64}, Int64, Float64, Float64, Float64, UnitRange{Int64}}}, static::Bool)\n",
      "   @ Base.Threads ./threadingconstructs.jl:172\n",
      " [2] macro expansion\n",
      "   @ ./threadingconstructs.jl:220 [inlined]\n",
      " [3] solveGenEig(solution::Vector{Float64}, Nmodes::Int64, Nmu::Int64)\n",
      "   @ Main ~/Documents/ferrofluidstabilty/stabilityFunctions.jl:41\n",
      " [4] top-level scope\n",
      "   @ ~/Documents/ferrofluidstabilty/analysis.ipynb:2"
     ]
    }
   ],
   "source": [
    "# compute eigenvalues λ\n",
    "λ21000 = solveGenEig(solutions[40,:], 2, 1000)\n",
    "stabilityPlots(λ21000, 1000)"
   ]
  },
  {
   "cell_type": "code",
   "execution_count": null,
   "metadata": {},
   "outputs": [],
   "source": []
  }
 ],
 "metadata": {
  "kernelspec": {
   "display_name": "Julia 1.10.2",
   "language": "julia",
   "name": "julia-1.10"
  },
  "language_info": {
   "file_extension": ".jl",
   "mimetype": "application/julia",
   "name": "julia",
   "version": "1.10.2"
  }
 },
 "nbformat": 4,
 "nbformat_minor": 2
}
