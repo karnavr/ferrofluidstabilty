{
 "cells": [
  {
   "cell_type": "code",
   "execution_count": 11,
   "metadata": {},
   "outputs": [],
   "source": [
    "import numpy as np\n",
    "import matplotlib.pyplot as plt"
   ]
  },
  {
   "cell_type": "code",
   "execution_count": 6,
   "metadata": {},
   "outputs": [],
   "source": [
    "Bond = 1.5\n",
    "b = 0.1\n",
    "epsilon = 1 - Bond / 2\n",
    "\n",
    "c1 = c0(1, b, Bond)  # wave speed at k = 1"
   ]
  },
  {
   "cell_type": "code",
   "execution_count": 5,
   "metadata": {},
   "outputs": [],
   "source": [
    "from scipy.special import iv, kv\n",
    "\n",
    "def beta(n, k, b, S0):\n",
    "    beta1 = iv(1, k * b) * kv(n, k * S0)\n",
    "    beta2 = (-1)**n * kv(1, k * b) * iv(n, k * S0)\n",
    "\n",
    "    return beta1 + beta2\n",
    "\n",
    "def c0(k, b, B):\n",
    "    # wave speed for small amplitude waves, depending on the wave-number k\n",
    "    \n",
    "    c0_value = np.sqrt((1 / k) * ((-beta(1, k, b, 1) / beta(0, k, b, 1)) * (k**2 - 1 + B)))\n",
    "\n",
    "    return c0_value"
   ]
  },
  {
   "cell_type": "code",
   "execution_count": 7,
   "metadata": {},
   "outputs": [],
   "source": [
    "def fourierToProfile(coeffs, domain):\n",
    "    N = len(coeffs)  # number of Fourier coeffs (a0, a1, ...)\n",
    "    \n",
    "    profile = 0  # initialize profile\n",
    "    \n",
    "    for i in range(N):  # Python's range starts at 0 by default\n",
    "        profile += coeffs[i] * np.cos(i * domain)\n",
    "\n",
    "    return profile\n"
   ]
  },
  {
   "cell_type": "code",
   "execution_count": 16,
   "metadata": {},
   "outputs": [],
   "source": [
    "mu = np.linspace(0.001, 1.0, 100)  # Generates 100 points between 0.001 and 1.0\n",
    "m = 1\n",
    "\n",
    "lambda1 = 1j * c1 * (mu + m) + 1j * c0(mu + m, b, Bond) * (mu + m)\n",
    "lambda2 = 1j * c1 * (mu + m) - 1j * c0(mu + m, b, Bond) * (mu + m)"
   ]
  },
  {
   "cell_type": "code",
   "execution_count": 17,
   "metadata": {},
   "outputs": [
    {
     "data": {
      "image/png": "[encoded data removed]",
      "text/plain": [
       "<Figure size 432x288 with 1 Axes>"
      ]
     },
     "metadata": {
      "needs_background": "light"
     },
     "output_type": "display_data"
    }
   ],
   "source": [
    "# Scatter plot for lambda1\n",
    "plt.scatter(np.real(lambda1), np.imag(lambda1), label=r'$\\lambda_+$')\n",
    "\n",
    "# Scatter plot for lambda2\n",
    "plt.scatter(np.real(lambda2), np.imag(lambda2), label=r'$\\lambda_-$')\n",
    "\n",
    "# Setting the labels for x and y axes\n",
    "plt.xlabel(r'Re{$\\lambda$}')\n",
    "plt.ylabel(r'Im{$\\lambda$}')\n",
    "\n",
    "# Setting the limits for x and y axes\n",
    "plt.xlim(-0.5, 0.5)\n",
    "plt.ylim(-5, 7)\n",
    "\n",
    "# Displaying the legend\n",
    "plt.legend()\n",
    "\n",
    "# Show the plot\n",
    "plt.show()"
   ]
  },
  {
   "cell_type": "code",
   "execution_count": 21,
   "metadata": {},
   "outputs": [
    {
     "name": "stderr",
     "output_type": "stream",
     "text": [
      "  0%|          | 0/100 [00:00<?, ?it/s]\n"
     ]
    },
    {
     "ename": "NameError",
     "evalue": "name 'Be' is not defined",
     "output_type": "error",
     "traceback": [
      "\u001b[0;31m---------------------------------------------------------------------------\u001b[0m",
      "\u001b[0;31mNameError\u001b[0m                                 Traceback (most recent call last)",
      "\u001b[0;32m<ipython-input-21-8f710fd3ac46>\u001b[0m in \u001b[0;36m<module>\u001b[0;34m\u001b[0m\n\u001b[1;32m     10\u001b[0m     \u001b[0;31m# Create matrices\u001b[0m\u001b[0;34m\u001b[0m\u001b[0;34m\u001b[0m\u001b[0;34m\u001b[0m\u001b[0m\n\u001b[1;32m     11\u001b[0m     \u001b[0mAeq\u001b[0m \u001b[0;34m=\u001b[0m \u001b[0mnp\u001b[0m\u001b[0;34m.\u001b[0m\u001b[0mzeros\u001b[0m\u001b[0;34m(\u001b[0m\u001b[0;34m(\u001b[0m\u001b[0;36m2\u001b[0m\u001b[0;34m*\u001b[0m\u001b[0mN\u001b[0m \u001b[0;34m+\u001b[0m \u001b[0;36m1\u001b[0m\u001b[0;34m,\u001b[0m \u001b[0;36m2\u001b[0m\u001b[0;34m*\u001b[0m\u001b[0mN\u001b[0m \u001b[0;34m+\u001b[0m \u001b[0;36m1\u001b[0m\u001b[0;34m)\u001b[0m\u001b[0;34m,\u001b[0m \u001b[0mdtype\u001b[0m\u001b[0;34m=\u001b[0m\u001b[0mcomplex\u001b[0m\u001b[0;34m)\u001b[0m\u001b[0;34m\u001b[0m\u001b[0;34m\u001b[0m\u001b[0m\n\u001b[0;32m---> 12\u001b[0;31m     \u001b[0mBeq\u001b[0m \u001b[0;34m=\u001b[0m \u001b[0mBe\u001b[0m\u001b[0;34m(\u001b[0m\u001b[0mN\u001b[0m\u001b[0;34m)\u001b[0m\u001b[0;34m\u001b[0m\u001b[0;34m\u001b[0m\u001b[0m\n\u001b[0m\u001b[1;32m     13\u001b[0m     \u001b[0mEeq\u001b[0m \u001b[0;34m=\u001b[0m \u001b[0mEe\u001b[0m\u001b[0;34m(\u001b[0m\u001b[0mN\u001b[0m\u001b[0;34m,\u001b[0m \u001b[0mBond\u001b[0m\u001b[0;34m,\u001b[0m \u001b[0mmu\u001b[0m\u001b[0;34m[\u001b[0m\u001b[0mi\u001b[0m\u001b[0;34m]\u001b[0m\u001b[0;34m)\u001b[0m\u001b[0;34m\u001b[0m\u001b[0;34m\u001b[0m\u001b[0m\n\u001b[1;32m     14\u001b[0m     \u001b[0mFeq\u001b[0m \u001b[0;34m=\u001b[0m \u001b[0mFe\u001b[0m\u001b[0;34m(\u001b[0m\u001b[0mN\u001b[0m\u001b[0;34m,\u001b[0m \u001b[0mS0z\u001b[0m\u001b[0;34m,\u001b[0m \u001b[0mq0z\u001b[0m\u001b[0;34m,\u001b[0m \u001b[0mc\u001b[0m\u001b[0;34m,\u001b[0m \u001b[0mmu\u001b[0m\u001b[0;34m[\u001b[0m\u001b[0mi\u001b[0m\u001b[0;34m]\u001b[0m\u001b[0;34m)\u001b[0m\u001b[0;34m\u001b[0m\u001b[0;34m\u001b[0m\u001b[0m\n",
      "\u001b[0;31mNameError\u001b[0m: name 'Be' is not defined"
     ]
    }
   ],
   "source": [
    "from numpy.linalg import eig\n",
    "from tqdm import tqdm  # for the progress bar\n",
    "\n",
    "N = 6\n",
    "\n",
    "mu_length = len(mu)\n",
    "lambda_e = np.zeros(mu_length, dtype=complex)  # Initialize array for eigenvalues\n",
    "\n",
    "for i in tqdm(range(mu_length)):  # tqdm for progress bar in loop\n",
    "    # Create matrices\n",
    "    Aeq = np.zeros((2*N + 1, 2*N + 1), dtype=complex)\n",
    "    Beq = Be(N)\n",
    "    Eeq = Ee(N, Bond, mu[i])\n",
    "    Feq = Fe(N, S0z, q0z, c, mu[i])\n",
    "\n",
    "    Ceq = Ce(N, z, S0, b, mu[i])\n",
    "    Deq = np.zeros((2*N + 1, 2*N + 1), dtype=complex)\n",
    "    Geq = Ge(N, z, S0, b, c, mu[i])\n",
    "    Heq = He(N, z, S0, b, mu[i])\n",
    "\n",
    "    # Construct left-hand side and right-hand side matrices\n",
    "    lhse = np.block([[Aeq, Beq], [Ceq, Deq]])\n",
    "    rhse = np.block([[Eeq, Feq], [Geq, Heq]])\n",
    "\n",
    "    # Solve the eigenvalue problem\n",
    "    eig_values, eig_vectors = eig(np.dot(np.linalg.inv(lhse), rhse))\n",
    "\n",
    "    # Save solution\n",
    "    # Assuming you want to append the eigenvalues to lambda_e\n",
    "    # You may need to adjust this depending on your specific requirements\n",
    "    lambda_e = np.append(lambda_e, eig_values)\n"
   ]
  },
  {
   "cell_type": "code",
   "execution_count": 19,
   "metadata": {},
   "outputs": [],
   "source": [
    "def Atest(N, z, S0z, q0z, c):\n",
    "    # Initialize matrix\n",
    "    A = np.zeros((2 * N + 1, 2 * N + 1), dtype=complex)\n",
    "\n",
    "    # Constants\n",
    "    alpha = 1 / (1 + S0z**2)\n",
    "    f = S0z * (q0z - c) * alpha\n",
    "\n",
    "    # Loop over index to populate matrix\n",
    "    for mm in range(1, 2 * N + 2):\n",
    "        for jj in range(1, 2 * N + 2):\n",
    "            m = mm - 1\n",
    "            j = jj - 1\n",
    "\n",
    "            # Define integrand specific to matrix\n",
    "            term = f\n",
    "\n",
    "            # Populate matrix entries\n",
    "            A[jj - 1, mm - 1] = (1 / (2 * np.pi)) * np.trapz(term * np.exp(-1j * j * z), z)\n",
    "\n",
    "    return A\n"
   ]
  },
  {
   "cell_type": "code",
   "execution_count": 22,
   "metadata": {},
   "outputs": [
    {
     "ename": "NameError",
     "evalue": "name 'z' is not defined",
     "output_type": "error",
     "traceback": [
      "\u001b[0;31m---------------------------------------------------------------------------\u001b[0m",
      "\u001b[0;31mNameError\u001b[0m                                 Traceback (most recent call last)",
      "\u001b[0;32m<ipython-input-22-5f1a270147d9>\u001b[0m in \u001b[0;36m<module>\u001b[0;34m\u001b[0m\n\u001b[0;32m----> 1\u001b[0;31m \u001b[0mAtest\u001b[0m\u001b[0;34m(\u001b[0m\u001b[0mN\u001b[0m\u001b[0;34m,\u001b[0m \u001b[0mz\u001b[0m\u001b[0;34m,\u001b[0m \u001b[0mS0z\u001b[0m\u001b[0;34m,\u001b[0m \u001b[0mq0z\u001b[0m\u001b[0;34m,\u001b[0m \u001b[0mc1\u001b[0m\u001b[0;34m)\u001b[0m\u001b[0;34m\u001b[0m\u001b[0;34m\u001b[0m\u001b[0m\n\u001b[0m",
      "\u001b[0;31mNameError\u001b[0m: name 'z' is not defined"
     ]
    }
   ],
   "source": [
    "Atest(N, z, S0z, q0z, c1)"
   ]
  },
  {
   "cell_type": "code",
   "execution_count": null,
   "metadata": {},
   "outputs": [],
   "source": []
  }
 ],
 "metadata": {
  "kernelspec": {
   "display_name": "Python 3",
   "language": "python",
   "name": "python3"
  },
  "language_info": {
   "codemirror_mode": {
    "name": "ipython",
    "version": 3
   },
   "file_extension": ".py",
   "mimetype": "text/x-python",
   "name": "python",
   "nbconvert_exporter": "python",
   "pygments_lexer": "ipython3",
   "version": "3.7.4"
  }
 },
 "nbformat": 4,
 "nbformat_minor": 2
}
